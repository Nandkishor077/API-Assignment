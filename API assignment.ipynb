{
 "cells": [
  {
   "cell_type": "raw",
   "id": "b7201199-dba2-415c-9c11-d8411edbc591",
   "metadata": {},
   "source": [
    "Q1. What is an API? Give an example, where an API is used in real life."
   ]
  },
  {
   "cell_type": "raw",
   "id": "92b0146b-7801-4a84-b2a3-0275e472e989",
   "metadata": {},
   "source": [
    "Ans. Application Programming Interface (API) is a software interface that allows two applications to interact with each other without any user intervention. API is a collection of software functions and procedures.API is defined as a code that helps two different software’s to communicate and exchange data with each other.\n",
    "APIs are used to deliver material by streaming services such as Spotify and Netflix."
   ]
  },
  {
   "cell_type": "raw",
   "id": "03c3a44f-be33-40e3-981b-47db0a97088a",
   "metadata": {},
   "source": [
    "Q2. Give advantages and disadvantages of using API.Q2.Q2. Give advantages and disadvantages of using API."
   ]
  },
  {
   "cell_type": "raw",
   "id": "76a98821-4a68-4c68-8edd-3d0fdbca6e27",
   "metadata": {},
   "source": [
    "Ans. Advantages:\n",
    "1.The major benefit of using an API is accessing and consuming data and services from thousands of independent sources. This means organizations of all sizes can access these functionalities without developing their own specialized applications.\n",
    "2.APIs enable developers to be more productive by allowing them to reuse an existing API rather than building new code each time.\n",
    "3.The language-independent nature of APIs\n",
    "Disadvantages:\n",
    "1.Complexity: APIs can be complex, requiring a significant amount of development effort to implement and maintain.\n",
    "2.Compatibility Issues: APIs can have compatibility issues"
   ]
  },
  {
   "cell_type": "raw",
   "id": "9016016b-5a08-4b50-9fe3-083aaedd36db",
   "metadata": {},
   "source": [
    "Q3. What is a Web API? Differentiate between API and Web API."
   ]
  },
  {
   "cell_type": "raw",
   "id": "ebdcac22-843c-4bcb-9a9a-c2c8573da180",
   "metadata": {},
   "source": [
    "Ans.A Web API is an application programming interface for the Web, Web application programming interface for either a web server or a web browser. As a web development concept, it can be related to a web application's client side.\n",
    "An application programming interface (API) is a set of subroutine definitions, protocols, and tools for building software and applications, while Web API as the name suggests, is an API over the web which can be accessed using HTTP protocol for example youtube. \n"
   ]
  },
  {
   "cell_type": "raw",
   "id": "fdf0c7ff-52fd-4371-a7c0-493f3160376c",
   "metadata": {},
   "source": [
    "Q4. Explain REST and SOAP Architecture. Mention shortcomings of SOAP."
   ]
  },
  {
   "cell_type": "raw",
   "id": "b3150b44-8cc3-4e9d-b59a-4ac1c432068a",
   "metadata": {},
   "source": [
    "Ans. REpresentational State Transfer (REST) is a software architectural style that defines the constraints to create web services. The web services that follows the REST architectural style is called RESTful Web Services. It differentiates between the computer system and web services.\n",
    "SOAP stands for Simple Object Access Protocol is a network platform used in a web service to exchange or communicate data between two different machines on a network. It uses the XML format of data to transfer messages over the HTTP protocol. In Web services, SOAP allows the user request to interact with other programming languages.\n",
    "shortcoming of SOAP- \n",
    "1.SOAP is used only XML format data in web service, whereas JSON and other lightweight formats are not supported by it \n",
    "2.It is slow because it uses XML format, whereas the payload for a simple string message is large.\n",
    "3.There is no state reference for the remote object in the SOAP client."
   ]
  },
  {
   "cell_type": "raw",
   "id": "1460b4fc-5b4d-4b18-81b6-210bd054b4bd",
   "metadata": {},
   "source": [
    "Q5. Differentiate between REST and SOAP."
   ]
  },
  {
   "cell_type": "raw",
   "id": "30978413-3d75-420a-b49d-a5fc7b3f7e31",
   "metadata": {},
   "source": [
    "Ans. Difference between SOAP adn REST -\n",
    "1.SOAP stands for Simple Object Access Protocol and REST stands for Representational State Transfer.\n",
    "2.SOAP uses only XML for exchanging information in its message format whereas REST is not restricted to XML and its the choice of implementer which Media-Type to use like XML, JSON, Plain-text.\n",
    "3.REST can use SOAP protocol but SOAP cannot use REST.\n",
    "4.SOAP is difficult to implement and it requires more bandwidth whereas REST is easy to implement and requires less bandwidth such as smartphones.\n"
   ]
  }
 ],
 "metadata": {
  "kernelspec": {
   "display_name": "Python 3 (ipykernel)",
   "language": "python",
   "name": "python3"
  },
  "language_info": {
   "codemirror_mode": {
    "name": "ipython",
    "version": 3
   },
   "file_extension": ".py",
   "mimetype": "text/x-python",
   "name": "python",
   "nbconvert_exporter": "python",
   "pygments_lexer": "ipython3",
   "version": "3.10.8"
  }
 },
 "nbformat": 4,
 "nbformat_minor": 5
}
